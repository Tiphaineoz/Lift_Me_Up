{
 "cells": [
  {
   "cell_type": "markdown",
   "id": "109e29fa-eadb-4597-9a6a-e0dbd15b81f8",
   "metadata": {},
   "source": [
    "# Lift Me Up Playground"
   ]
  },
  {
   "cell_type": "markdown",
   "id": "5525d5af-8f97-4c77-95a5-b653f10acbde",
   "metadata": {
    "jp-MarkdownHeadingCollapsed": true
   },
   "source": [
    "## Transcript Download"
   ]
  },
  {
   "cell_type": "code",
   "execution_count": null,
   "id": "df451441-693a-4877-a6c9-fcdba2468819",
   "metadata": {},
   "outputs": [],
   "source": [
    "#from youtube_transcript_api import YouTubeTranscriptApi\n",
    "#video_id = 'aXPhHuieFIE'\n",
    "#test = YouTubeTranscriptApi.get_transcript(video_id)"
   ]
  },
  {
   "cell_type": "markdown",
   "id": "94756119-8345-43de-be21-f0b27a206e02",
   "metadata": {},
   "source": [
    "## The main dataset "
   ]
  },
  {
   "cell_type": "code",
   "execution_count": 1,
   "id": "b6ebd1ab-6db2-48d6-919a-987b2b14e596",
   "metadata": {},
   "outputs": [],
   "source": [
    "import pandas as pd\n",
    "from datasets import load_dataset"
   ]
  },
  {
   "cell_type": "code",
   "execution_count": 2,
   "id": "0a056d3f-049d-490e-97d0-00e87a06da0e",
   "metadata": {},
   "outputs": [],
   "source": [
    "dataset = load_dataset(\"jkhedri/psychology-dataset\")\n",
    "df = pd.DataFrame(dataset)"
   ]
  },
  {
   "cell_type": "code",
   "execution_count": 3,
   "id": "a5cfdc2a",
   "metadata": {},
   "outputs": [
    {
     "data": {
      "text/html": [
       "<div>\n",
       "<style scoped>\n",
       "    .dataframe tbody tr th:only-of-type {\n",
       "        vertical-align: middle;\n",
       "    }\n",
       "\n",
       "    .dataframe tbody tr th {\n",
       "        vertical-align: top;\n",
       "    }\n",
       "\n",
       "    .dataframe thead th {\n",
       "        text-align: right;\n",
       "    }\n",
       "</style>\n",
       "<table border=\"1\" class=\"dataframe\">\n",
       "  <thead>\n",
       "    <tr style=\"text-align: right;\">\n",
       "      <th></th>\n",
       "      <th>train</th>\n",
       "    </tr>\n",
       "  </thead>\n",
       "  <tbody>\n",
       "    <tr>\n",
       "      <th>0</th>\n",
       "      <td>{'question': 'I'm feeling really anxious latel...</td>\n",
       "    </tr>\n",
       "    <tr>\n",
       "      <th>1</th>\n",
       "      <td>{'question': 'I think my partner may be cheati...</td>\n",
       "    </tr>\n",
       "    <tr>\n",
       "      <th>2</th>\n",
       "      <td>{'question': 'I'm feeling really overwhelmed w...</td>\n",
       "    </tr>\n",
       "    <tr>\n",
       "      <th>3</th>\n",
       "      <td>{'question': 'I'm having trouble sleeping and ...</td>\n",
       "    </tr>\n",
       "    <tr>\n",
       "      <th>4</th>\n",
       "      <td>{'question': 'I've been feeling really anxious...</td>\n",
       "    </tr>\n",
       "  </tbody>\n",
       "</table>\n",
       "</div>"
      ],
      "text/plain": [
       "                                               train\n",
       "0  {'question': 'I'm feeling really anxious latel...\n",
       "1  {'question': 'I think my partner may be cheati...\n",
       "2  {'question': 'I'm feeling really overwhelmed w...\n",
       "3  {'question': 'I'm having trouble sleeping and ...\n",
       "4  {'question': 'I've been feeling really anxious..."
      ]
     },
     "execution_count": 3,
     "metadata": {},
     "output_type": "execute_result"
    }
   ],
   "source": [
    "df.head()"
   ]
  },
  {
   "cell_type": "markdown",
   "id": "9fc5c579-d772-413b-960f-41c27c6c43e3",
   "metadata": {},
   "source": [
    "### Getting Questions and Response_J into their own columns"
   ]
  },
  {
   "cell_type": "code",
   "execution_count": 4,
   "id": "c15e16f4-9f0f-4e77-94f0-cb2e727638f9",
   "metadata": {},
   "outputs": [
    {
     "data": {
      "text/plain": [
       "{'question': \"I'm feeling really anxious lately and I don't know why.\",\n",
       " 'response_j': \"It's common to feel anxious at times, and there can be many reasons for it. Have there been any recent changes or stressors in your life that may be contributing to your anxiety? Let's work together to identify any triggers and develop coping strategies to manage your anxiety.\",\n",
       " 'response_k': 'Anxiety is just a sign of weakness. You need to toughen up and stop worrying so much. Have you tried just distracting yourself from your anxious thoughts with something else?'}"
      ]
     },
     "execution_count": 4,
     "metadata": {},
     "output_type": "execute_result"
    }
   ],
   "source": [
    "df.train[0]"
   ]
  },
  {
   "cell_type": "code",
   "execution_count": 5,
   "id": "2714ae6b-613c-42fe-90a7-c64c3e3bf774",
   "metadata": {},
   "outputs": [],
   "source": [
    "questions = []\n",
    "answers = []\n",
    "for r in range(len(df)):\n",
    "    questions.append(df.train[r]['question'])\n",
    "    answers.append(df.train[r]['response_j'])"
   ]
  },
  {
   "cell_type": "code",
   "execution_count": 6,
   "id": "02b840a5-ca9f-469d-988d-1a5d05dbe453",
   "metadata": {},
   "outputs": [],
   "source": [
    "df['question'] = questions\n",
    "df['answer'] = answers "
   ]
  },
  {
   "cell_type": "code",
   "execution_count": 7,
   "id": "02a2397c-9e26-48f7-bd35-b35d36282d9a",
   "metadata": {},
   "outputs": [
    {
     "data": {
      "text/html": [
       "<div>\n",
       "<style scoped>\n",
       "    .dataframe tbody tr th:only-of-type {\n",
       "        vertical-align: middle;\n",
       "    }\n",
       "\n",
       "    .dataframe tbody tr th {\n",
       "        vertical-align: top;\n",
       "    }\n",
       "\n",
       "    .dataframe thead th {\n",
       "        text-align: right;\n",
       "    }\n",
       "</style>\n",
       "<table border=\"1\" class=\"dataframe\">\n",
       "  <thead>\n",
       "    <tr style=\"text-align: right;\">\n",
       "      <th></th>\n",
       "      <th>train</th>\n",
       "      <th>question</th>\n",
       "      <th>answer</th>\n",
       "    </tr>\n",
       "  </thead>\n",
       "  <tbody>\n",
       "    <tr>\n",
       "      <th>0</th>\n",
       "      <td>{'question': 'I'm feeling really anxious latel...</td>\n",
       "      <td>I'm feeling really anxious lately and I don't ...</td>\n",
       "      <td>It's common to feel anxious at times, and ther...</td>\n",
       "    </tr>\n",
       "    <tr>\n",
       "      <th>1</th>\n",
       "      <td>{'question': 'I think my partner may be cheati...</td>\n",
       "      <td>I think my partner may be cheating on me. What...</td>\n",
       "      <td>It's understandable to feel worried and suspic...</td>\n",
       "    </tr>\n",
       "    <tr>\n",
       "      <th>2</th>\n",
       "      <td>{'question': 'I'm feeling really overwhelmed w...</td>\n",
       "      <td>I'm feeling really overwhelmed with work and s...</td>\n",
       "      <td>It sounds like you're going through a difficul...</td>\n",
       "    </tr>\n",
       "    <tr>\n",
       "      <th>3</th>\n",
       "      <td>{'question': 'I'm having trouble sleeping and ...</td>\n",
       "      <td>I'm having trouble sleeping and I'm constantly...</td>\n",
       "      <td>It's important to talk to your doctor about an...</td>\n",
       "    </tr>\n",
       "    <tr>\n",
       "      <th>4</th>\n",
       "      <td>{'question': 'I've been feeling really anxious...</td>\n",
       "      <td>I've been feeling really anxious lately, and I...</td>\n",
       "      <td>It's common to feel anxious without knowing th...</td>\n",
       "    </tr>\n",
       "  </tbody>\n",
       "</table>\n",
       "</div>"
      ],
      "text/plain": [
       "                                               train  \\\n",
       "0  {'question': 'I'm feeling really anxious latel...   \n",
       "1  {'question': 'I think my partner may be cheati...   \n",
       "2  {'question': 'I'm feeling really overwhelmed w...   \n",
       "3  {'question': 'I'm having trouble sleeping and ...   \n",
       "4  {'question': 'I've been feeling really anxious...   \n",
       "\n",
       "                                            question  \\\n",
       "0  I'm feeling really anxious lately and I don't ...   \n",
       "1  I think my partner may be cheating on me. What...   \n",
       "2  I'm feeling really overwhelmed with work and s...   \n",
       "3  I'm having trouble sleeping and I'm constantly...   \n",
       "4  I've been feeling really anxious lately, and I...   \n",
       "\n",
       "                                              answer  \n",
       "0  It's common to feel anxious at times, and ther...  \n",
       "1  It's understandable to feel worried and suspic...  \n",
       "2  It sounds like you're going through a difficul...  \n",
       "3  It's important to talk to your doctor about an...  \n",
       "4  It's common to feel anxious without knowing th...  "
      ]
     },
     "execution_count": 7,
     "metadata": {},
     "output_type": "execute_result"
    }
   ],
   "source": [
    "df.head()"
   ]
  },
  {
   "cell_type": "markdown",
   "id": "6cfba5c8-2fe0-43d9-a14d-f8bb3416f631",
   "metadata": {},
   "source": [
    "### Calling my X and my y"
   ]
  },
  {
   "cell_type": "code",
   "execution_count": 8,
   "id": "766eca9b-9670-47c2-9d06-795a8f706c5f",
   "metadata": {},
   "outputs": [],
   "source": [
    "X_all = df['question']\n",
    "y_all = df['answer']"
   ]
  },
  {
   "cell_type": "code",
   "execution_count": 9,
   "id": "dfff717b-ce0b-4cc1-81b3-24d92e45f08a",
   "metadata": {},
   "outputs": [
    {
     "data": {
      "text/html": [
       "<div>\n",
       "<style scoped>\n",
       "    .dataframe tbody tr th:only-of-type {\n",
       "        vertical-align: middle;\n",
       "    }\n",
       "\n",
       "    .dataframe tbody tr th {\n",
       "        vertical-align: top;\n",
       "    }\n",
       "\n",
       "    .dataframe thead th {\n",
       "        text-align: right;\n",
       "    }\n",
       "</style>\n",
       "<table border=\"1\" class=\"dataframe\">\n",
       "  <thead>\n",
       "    <tr style=\"text-align: right;\">\n",
       "      <th></th>\n",
       "      <th>question</th>\n",
       "      <th>answer</th>\n",
       "    </tr>\n",
       "  </thead>\n",
       "  <tbody>\n",
       "    <tr>\n",
       "      <th>0</th>\n",
       "      <td>I'm feeling really anxious lately and I don't ...</td>\n",
       "      <td>It's common to feel anxious at times, and ther...</td>\n",
       "    </tr>\n",
       "    <tr>\n",
       "      <th>1</th>\n",
       "      <td>I think my partner may be cheating on me. What...</td>\n",
       "      <td>It's understandable to feel worried and suspic...</td>\n",
       "    </tr>\n",
       "    <tr>\n",
       "      <th>2</th>\n",
       "      <td>I'm feeling really overwhelmed with work and s...</td>\n",
       "      <td>It sounds like you're going through a difficul...</td>\n",
       "    </tr>\n",
       "    <tr>\n",
       "      <th>3</th>\n",
       "      <td>I'm having trouble sleeping and I'm constantly...</td>\n",
       "      <td>It's important to talk to your doctor about an...</td>\n",
       "    </tr>\n",
       "    <tr>\n",
       "      <th>4</th>\n",
       "      <td>I've been feeling really anxious lately, and I...</td>\n",
       "      <td>It's common to feel anxious without knowing th...</td>\n",
       "    </tr>\n",
       "  </tbody>\n",
       "</table>\n",
       "</div>"
      ],
      "text/plain": [
       "                                            question  \\\n",
       "0  I'm feeling really anxious lately and I don't ...   \n",
       "1  I think my partner may be cheating on me. What...   \n",
       "2  I'm feeling really overwhelmed with work and s...   \n",
       "3  I'm having trouble sleeping and I'm constantly...   \n",
       "4  I've been feeling really anxious lately, and I...   \n",
       "\n",
       "                                              answer  \n",
       "0  It's common to feel anxious at times, and ther...  \n",
       "1  It's understandable to feel worried and suspic...  \n",
       "2  It sounds like you're going through a difficul...  \n",
       "3  It's important to talk to your doctor about an...  \n",
       "4  It's common to feel anxious without knowing th...  "
      ]
     },
     "execution_count": 9,
     "metadata": {},
     "output_type": "execute_result"
    }
   ],
   "source": [
    "new_df = df.drop(columns = 'train')\n",
    "new_df.head()"
   ]
  },
  {
   "cell_type": "code",
   "execution_count": 10,
   "id": "95fe0497-1c83-4075-a6fe-b35cb0cce647",
   "metadata": {},
   "outputs": [],
   "source": [
    "from sklearn.model_selection import train_test_split\n",
    "X, X_test, y, y_test = train_test_split( X_all, y_all, test_size=0.6, random_state=42)"
   ]
  },
  {
   "cell_type": "code",
   "execution_count": 11,
   "id": "a7d1a256-66f7-4f5c-ae4e-2dbefe11ae7c",
   "metadata": {},
   "outputs": [
    {
     "data": {
      "text/html": [
       "<div>\n",
       "<style scoped>\n",
       "    .dataframe tbody tr th:only-of-type {\n",
       "        vertical-align: middle;\n",
       "    }\n",
       "\n",
       "    .dataframe tbody tr th {\n",
       "        vertical-align: top;\n",
       "    }\n",
       "\n",
       "    .dataframe thead th {\n",
       "        text-align: right;\n",
       "    }\n",
       "</style>\n",
       "<table border=\"1\" class=\"dataframe\">\n",
       "  <thead>\n",
       "    <tr style=\"text-align: right;\">\n",
       "      <th></th>\n",
       "      <th>question</th>\n",
       "    </tr>\n",
       "  </thead>\n",
       "  <tbody>\n",
       "    <tr>\n",
       "      <th>3583</th>\n",
       "      <td>I'm struggling with my body image.</td>\n",
       "    </tr>\n",
       "    <tr>\n",
       "      <th>9673</th>\n",
       "      <td>My partner and I have been having communicatio...</td>\n",
       "    </tr>\n",
       "    <tr>\n",
       "      <th>7922</th>\n",
       "      <td>I'm feeling really stressed out. What can I do...</td>\n",
       "    </tr>\n",
       "    <tr>\n",
       "      <th>7444</th>\n",
       "      <td>I'm feeling really anxious lately and can't se...</td>\n",
       "    </tr>\n",
       "    <tr>\n",
       "      <th>6213</th>\n",
       "      <td>I'm having trouble with my body image. What sh...</td>\n",
       "    </tr>\n",
       "  </tbody>\n",
       "</table>\n",
       "</div>"
      ],
      "text/plain": [
       "                                               question\n",
       "3583                 I'm struggling with my body image.\n",
       "9673  My partner and I have been having communicatio...\n",
       "7922  I'm feeling really stressed out. What can I do...\n",
       "7444  I'm feeling really anxious lately and can't se...\n",
       "6213  I'm having trouble with my body image. What sh..."
      ]
     },
     "execution_count": 11,
     "metadata": {},
     "output_type": "execute_result"
    }
   ],
   "source": [
    "X = pd.DataFrame(X)\n",
    "X.head()"
   ]
  },
  {
   "cell_type": "markdown",
   "id": "37ba2fe8-3b0e-43b1-b1a8-ad1ed5583268",
   "metadata": {},
   "source": [
    "### Trying to build manually?"
   ]
  },
  {
   "cell_type": "code",
   "execution_count": 12,
   "id": "15f0027c-d7a0-4b81-a64c-5fdfee0d75bc",
   "metadata": {},
   "outputs": [],
   "source": [
    "#from tensorflow.keras.models import Sequential\n",
    "#from tensorflow.keras import layers\n",
    "\n",
    "# Model definition\n",
    "#model = Sequential()\n",
    "#model.add(layers.Dense(20, activation='relu', input_dim=713))\n",
    "#model.add(layers.Dense(10, activation='relu'))\n",
    "#model.add(layers.Dense(1, activation='softmax'))\n",
    "#model.compile(\n",
    "#    optimizer='adam',\n",
    "#    loss='categorical_crossentropy', \n",
    "#    metrics = 'accuracy')"
   ]
  },
  {
   "cell_type": "markdown",
   "id": "53528815-cdbb-4d22-8a7d-58ca55fa9043",
   "metadata": {},
   "source": [
    "### Using pre-trained model "
   ]
  },
  {
   "cell_type": "markdown",
   "id": "7e73a63f-b61c-4045-9a64-b979f41afc49",
   "metadata": {},
   "source": [
    "pre-trained model selected : ayoubkirouane/BERT-Emotions-Classifier"
   ]
  },
  {
   "cell_type": "markdown",
   "id": "b427b6bc-b6a7-4463-bb40-39aae93c115f",
   "metadata": {},
   "source": [
    "#### testing with a recognised pre-trained model"
   ]
  },
  {
   "cell_type": "code",
   "execution_count": 13,
   "id": "0464e568-7c3c-4b3c-8fb3-ecbd49cdf8ff",
   "metadata": {},
   "outputs": [
    {
     "name": "stderr",
     "output_type": "stream",
     "text": [
      "2024-03-04 17:23:23.495055: I tensorflow/core/util/port.cc:113] oneDNN custom operations are on. You may see slightly different numerical results due to floating-point round-off errors from different computation orders. To turn them off, set the environment variable `TF_ENABLE_ONEDNN_OPTS=0`.\n",
      "2024-03-04 17:23:23.533704: I external/local_tsl/tsl/cuda/cudart_stub.cc:31] Could not find cuda drivers on your machine, GPU will not be used.\n",
      "2024-03-04 17:23:23.719009: E external/local_xla/xla/stream_executor/cuda/cuda_dnn.cc:9261] Unable to register cuDNN factory: Attempting to register factory for plugin cuDNN when one has already been registered\n",
      "2024-03-04 17:23:23.719067: E external/local_xla/xla/stream_executor/cuda/cuda_fft.cc:607] Unable to register cuFFT factory: Attempting to register factory for plugin cuFFT when one has already been registered\n",
      "2024-03-04 17:23:23.768312: E external/local_xla/xla/stream_executor/cuda/cuda_blas.cc:1515] Unable to register cuBLAS factory: Attempting to register factory for plugin cuBLAS when one has already been registered\n",
      "2024-03-04 17:23:23.835614: I external/local_tsl/tsl/cuda/cudart_stub.cc:31] Could not find cuda drivers on your machine, GPU will not be used.\n",
      "2024-03-04 17:23:23.837438: I tensorflow/core/platform/cpu_feature_guard.cc:182] This TensorFlow binary is optimized to use available CPU instructions in performance-critical operations.\n",
      "To enable the following instructions: AVX2 AVX_VNNI FMA, in other operations, rebuild TensorFlow with the appropriate compiler flags.\n",
      "2024-03-04 17:23:24.862414: W tensorflow/compiler/tf2tensorrt/utils/py_utils.cc:38] TF-TRT Warning: Could not find TensorRT\n",
      "Some weights of the PyTorch model were not used when initializing the TF 2.0 model TFBertModel: ['cls.seq_relationship.bias', 'cls.predictions.transform.dense.bias', 'cls.predictions.transform.dense.weight', 'cls.predictions.transform.LayerNorm.bias', 'cls.predictions.bias', 'cls.seq_relationship.weight', 'cls.predictions.transform.LayerNorm.weight']\n",
      "- This IS expected if you are initializing TFBertModel from a PyTorch model trained on another task or with another architecture (e.g. initializing a TFBertForSequenceClassification model from a BertForPreTraining model).\n",
      "- This IS NOT expected if you are initializing TFBertModel from a PyTorch model that you expect to be exactly identical (e.g. initializing a TFBertForSequenceClassification model from a BertForSequenceClassification model).\n",
      "All the weights of TFBertModel were initialized from the PyTorch model.\n",
      "If your task is similar to the task the model of the checkpoint was trained on, you can already use TFBertModel for predictions without further training.\n"
     ]
    }
   ],
   "source": [
    "from transformers import BertTokenizer, TFBertModel\n",
    "tokenizer = BertTokenizer.from_pretrained('bert-base-uncased')\n",
    "model = TFBertModel.from_pretrained(\"bert-base-uncased\")\n",
    "text = \"I'm struggling with my body image\"\n",
    "encoded_input = tokenizer(text, return_tensors='tf')\n",
    "output = model(encoded_input)"
   ]
  },
  {
   "cell_type": "code",
   "execution_count": 14,
   "id": "d31ee5b3-0656-4509-8160-21790cb52bee",
   "metadata": {},
   "outputs": [
    {
     "data": {
      "text/plain": [
       "TFBaseModelOutputWithPoolingAndCrossAttentions(last_hidden_state=<tf.Tensor: shape=(1, 10, 768), dtype=float32, numpy=\n",
       "array([[[ 0.16655256,  0.30138662,  0.04182276, ..., -0.10977775,\n",
       "          0.08999836,  0.15080006],\n",
       "        [ 0.1134204 ,  0.49956554, -0.704957  , ...,  0.06546806,\n",
       "          0.6343676 ,  0.36404106],\n",
       "        [ 0.46951455, -0.08654222,  0.43994883, ..., -0.6057686 ,\n",
       "          0.23529495, -0.20612116],\n",
       "        ...,\n",
       "        [ 0.41608667, -0.42830357,  0.31148222, ..., -0.830958  ,\n",
       "         -0.02026437,  0.08181397],\n",
       "        [ 0.23044956, -0.11350092, -0.38386637, ...,  0.306188  ,\n",
       "          0.32906383, -0.01288066],\n",
       "        [ 0.74707985,  0.28112668, -0.12774366, ...,  0.00091529,\n",
       "         -0.47692922, -0.2707505 ]]], dtype=float32)>, pooler_output=<tf.Tensor: shape=(1, 768), dtype=float32, numpy=\n",
       "array([[-7.73431897e-01, -1.66651905e-01,  5.44427514e-01,\n",
       "         4.36887681e-01, -3.74479860e-01, -1.02269962e-01,\n",
       "         7.18245208e-01,  1.40059367e-01,  3.23325962e-01,\n",
       "        -9.98517573e-01,  4.33361173e-01,  2.15125725e-01,\n",
       "         9.53525424e-01, -3.19799423e-01,  8.35471690e-01,\n",
       "        -4.41285372e-01, -4.76600006e-02, -4.17033076e-01,\n",
       "         1.50725126e-01, -6.13090873e-01,  3.84240896e-01,\n",
       "         6.24161482e-01,  6.28411531e-01,  1.26364991e-01,\n",
       "         2.13243008e-01,  4.55895849e-02, -3.51480961e-01,\n",
       "         8.47395062e-01,  9.02704954e-01,  6.37789190e-01,\n",
       "        -4.99580801e-01,  1.10517755e-01, -9.63948965e-01,\n",
       "        -2.32220329e-02,  5.73545396e-01, -9.46072102e-01,\n",
       "         8.37948546e-03, -5.83707452e-01,  1.37860984e-01,\n",
       "         9.90116522e-02, -7.87517905e-01,  9.13483202e-02,\n",
       "         9.78452265e-01, -5.76174378e-01, -2.33410209e-01,\n",
       "        -1.95027918e-01, -9.96783495e-01,  1.50096208e-01,\n",
       "        -7.76344597e-01, -4.27734792e-01, -4.34231102e-01,\n",
       "        -5.83141685e-01,  7.65539408e-02,  2.03412160e-01,\n",
       "         2.35760942e-01,  2.11687788e-01, -1.91393644e-01,\n",
       "         1.51546365e-02, -2.02448554e-02, -3.82802993e-01,\n",
       "        -4.89224166e-01,  1.21244684e-01,  2.84973770e-01,\n",
       "        -7.42848754e-01, -4.27664965e-01, -5.79201877e-01,\n",
       "         9.89353657e-02, -4.11139727e-02,  8.55310708e-02,\n",
       "        -4.23858836e-02,  7.17748106e-01,  2.54112966e-02,\n",
       "         3.46409082e-01, -5.97014368e-01, -4.92852688e-01,\n",
       "         1.88181717e-02, -2.61570722e-01,  9.99805093e-01,\n",
       "        -2.59476185e-01, -9.44738150e-01, -5.05599022e-01,\n",
       "        -4.05391514e-01,  1.28859758e-01,  6.82148874e-01,\n",
       "        -5.84854662e-01, -9.99348938e-01,  1.73695937e-01,\n",
       "         2.73657823e-03, -9.71876621e-01,  5.97460307e-02,\n",
       "         1.13689952e-01, -7.50366971e-02, -6.26859903e-01,\n",
       "         1.55835271e-01,  3.03802006e-02,  5.86953908e-02,\n",
       "        -7.73919150e-02,  5.83784759e-01,  7.03116730e-02,\n",
       "         6.57426491e-02, -1.05237998e-01, -4.57201600e-02,\n",
       "         8.78879055e-02, -1.60415068e-01,  6.54471433e-03,\n",
       "        -2.63481528e-01, -4.00028795e-01,  3.50469351e-02,\n",
       "        -2.41938606e-01,  5.03213465e-01,  1.80379242e-01,\n",
       "        -1.00539662e-01,  3.67210321e-02, -8.80709767e-01,\n",
       "         4.38981444e-01, -1.32462054e-01, -9.57986176e-01,\n",
       "        -1.83079079e-01, -9.65675056e-01,  4.84912425e-01,\n",
       "         2.18170688e-01,  1.84104778e-02,  9.19788361e-01,\n",
       "         6.48515105e-01,  1.75470650e-01,  1.03389174e-01,\n",
       "         3.70761067e-01, -9.99930084e-01, -2.02422231e-01,\n",
       "         4.54490818e-02,  2.80478090e-01,  5.50508276e-02,\n",
       "        -9.46451604e-01, -8.89482439e-01,  3.93338561e-01,\n",
       "         8.93412590e-01,  4.27395776e-02,  9.75061178e-01,\n",
       "        -1.80922095e-02,  8.37859869e-01,  3.24872613e-01,\n",
       "         7.34021962e-02, -3.90389234e-01, -1.87722370e-01,\n",
       "         9.86074656e-03, -1.87278504e-03, -4.50229794e-01,\n",
       "         9.30042863e-02,  1.47912845e-01, -2.46436402e-01,\n",
       "         1.46467566e-01, -7.37597793e-02,  4.81582493e-01,\n",
       "        -8.35941136e-01, -2.75251657e-01,  8.57576072e-01,\n",
       "         3.14429313e-01,  5.11032462e-01,  6.56299114e-01,\n",
       "        -8.01241472e-02, -1.77435160e-01,  6.43291414e-01,\n",
       "         1.32328436e-01,  1.88155591e-01,  4.85959835e-03,\n",
       "         2.11736292e-01, -4.23500836e-01,  2.42511213e-01,\n",
       "        -7.49588668e-01,  2.92672664e-01,  2.05118924e-01,\n",
       "        -7.53466412e-02,  6.01409256e-01, -9.39554214e-01,\n",
       "        -1.08074494e-01,  2.77855128e-01,  9.54844236e-01,\n",
       "         5.86411119e-01,  3.73496078e-02, -8.16101655e-02,\n",
       "        -1.12523288e-01,  3.14465091e-02, -8.73210430e-01,\n",
       "         9.38109219e-01,  5.06502055e-02,  8.56064335e-02,\n",
       "         5.95097780e-01, -1.89845726e-01, -7.78263092e-01,\n",
       "        -5.21172583e-01,  6.48891449e-01,  2.15631910e-02,\n",
       "        -7.40732491e-01,  1.17340811e-01, -2.66985536e-01,\n",
       "        -2.57488042e-01,  3.44190359e-01,  3.61778289e-01,\n",
       "        -1.43921390e-01, -1.42903477e-01,  1.86623067e-01,\n",
       "         8.57653320e-01,  9.00426447e-01,  6.24587178e-01,\n",
       "        -6.76411748e-01,  3.66530269e-01, -7.86443293e-01,\n",
       "        -1.64671510e-01,  4.48172502e-02,  1.11690864e-01,\n",
       "        -2.77130883e-02,  9.78559375e-01,  2.36074165e-01,\n",
       "         3.81630547e-02, -8.49434257e-01, -9.52860236e-01,\n",
       "        -1.13744996e-01, -7.69047379e-01,  8.02136883e-02,\n",
       "        -4.29161459e-01,  9.50228646e-02,  6.53301120e-01,\n",
       "        -3.37537110e-01,  1.91684932e-01, -9.22543824e-01,\n",
       "        -6.18107140e-01,  1.93575099e-01, -7.38954246e-02,\n",
       "         1.79996893e-01, -2.22155258e-01,  5.08259952e-01,\n",
       "        -3.89794886e-01, -4.28764313e-01,  6.78962529e-01,\n",
       "         8.29673409e-01,  5.18974364e-01, -5.26350677e-01,\n",
       "         6.13747001e-01, -1.40346438e-01,  7.92499900e-01,\n",
       "        -3.63527507e-01,  8.94925535e-01, -3.35874528e-01,\n",
       "         3.05051833e-01, -8.18681002e-01,  4.27674085e-01,\n",
       "        -8.33718538e-01,  4.14187938e-01,  1.96476839e-02,\n",
       "        -6.82342947e-01, -4.26082104e-01,  1.71272784e-01,\n",
       "         1.79488927e-01,  8.61028016e-01, -2.89011389e-01,\n",
       "         9.87042487e-01, -6.59626424e-01, -8.88828754e-01,\n",
       "         5.43204188e-01,  8.49207938e-02, -9.64752316e-01,\n",
       "        -2.24672124e-01, -1.90458819e-03, -5.51936150e-01,\n",
       "        -1.42237321e-01, -2.12373719e-01, -9.01468992e-01,\n",
       "         7.11874068e-01,  1.31961005e-02,  9.33321118e-01,\n",
       "         1.49848655e-01, -7.54553437e-01, -2.52287716e-01,\n",
       "        -7.64471769e-01, -2.55575836e-01,  6.33403584e-02,\n",
       "         6.72164798e-01, -2.42426068e-01, -8.86855662e-01,\n",
       "         2.98555821e-01,  4.25902158e-01,  2.77392864e-01,\n",
       "         6.43469810e-01,  9.80383277e-01,  9.67529893e-01,\n",
       "         9.31598544e-01,  7.66697049e-01,  7.33081877e-01,\n",
       "        -3.71139228e-01, -1.35610819e-01,  9.99219537e-01,\n",
       "        -2.44554952e-01, -9.97391164e-01, -8.59374702e-01,\n",
       "        -3.71407568e-01,  2.60979354e-01, -9.99891281e-01,\n",
       "        -2.35429965e-02,  1.24984309e-01, -8.25875461e-01,\n",
       "        -4.52822894e-01,  9.50564027e-01,  9.55647469e-01,\n",
       "        -9.99647975e-01,  7.56168842e-01,  8.74104857e-01,\n",
       "        -2.59360999e-01,  8.46923888e-02, -1.80240627e-02,\n",
       "         9.30896401e-01,  1.11215472e-01,  3.40691984e-01,\n",
       "        -3.51063125e-02,  1.02230549e-01,  3.59706551e-01,\n",
       "        -6.59394503e-01,  5.41052103e-01,  4.90459830e-01,\n",
       "         6.74612895e-02,  4.05480824e-02, -5.08308411e-01,\n",
       "        -8.12696278e-01, -3.89929801e-01, -9.95782837e-02,\n",
       "        -5.07869720e-01, -8.93822074e-01, -5.54514676e-02,\n",
       "        -5.19375920e-01,  3.85242522e-01,  2.04528123e-03,\n",
       "        -3.07358950e-02, -6.02519333e-01,  1.38214109e-02,\n",
       "        -7.23877847e-01,  4.78020199e-02,  3.26914698e-01,\n",
       "        -8.45773816e-01, -4.09677505e-01,  2.50375360e-01,\n",
       "        -4.83678192e-01,  4.64955062e-01, -8.91042590e-01,\n",
       "         9.27009523e-01, -7.34452754e-02, -2.96536744e-01,\n",
       "         9.99787450e-01, -4.30359930e-01, -7.33305573e-01,\n",
       "         1.30923256e-01,  5.68661988e-02,  6.04862683e-02,\n",
       "         9.99498308e-01,  2.50348002e-01, -9.44430828e-01,\n",
       "        -2.34228015e-01,  4.42458987e-02, -2.56061643e-01,\n",
       "        -1.75267324e-01,  9.86500859e-01, -3.59307975e-02,\n",
       "         5.11605024e-01,  4.38899547e-01,  9.12823975e-01,\n",
       "        -9.68313038e-01, -3.23331207e-01, -8.42585385e-01,\n",
       "        -9.01079714e-01,  9.15730655e-01,  8.45614851e-01,\n",
       "         1.18788645e-01, -3.76543313e-01,  1.46215577e-02,\n",
       "         3.26415062e-01,  7.24188313e-02, -9.13712025e-01,\n",
       "         4.41181630e-01,  2.48516813e-01, -4.70412709e-02,\n",
       "         8.29358697e-01, -6.87173069e-01, -2.09544361e-01,\n",
       "         2.40843326e-01,  2.93653607e-01,  4.38369483e-01,\n",
       "        -4.64650899e-01,  2.29726687e-01, -9.23107564e-02,\n",
       "        -2.20494214e-02, -4.59510759e-02, -8.66317227e-02,\n",
       "        -9.29973543e-01, -2.31737122e-01,  9.99488235e-01,\n",
       "         1.90616503e-01, -5.30494094e-01, -4.79710475e-02,\n",
       "         3.44863459e-02, -3.55884850e-01,  1.58597693e-01,\n",
       "         2.21144825e-01, -1.31034434e-01, -6.53307021e-01,\n",
       "        -5.16391397e-01, -8.64011288e-01, -9.56167817e-01,\n",
       "         4.73687708e-01,  1.25381872e-02, -1.58640489e-01,\n",
       "         9.81255531e-01, -1.37002423e-01,  5.49889617e-02,\n",
       "        -2.51890510e-01, -1.79504082e-02, -1.33910477e-01,\n",
       "         2.98278391e-01, -6.23698115e-01,  9.37990487e-01,\n",
       "        -1.05223343e-01,  1.93320170e-01,  7.14238167e-01,\n",
       "         4.89227355e-01, -1.19402744e-01, -4.68488038e-01,\n",
       "        -5.18578477e-02, -8.20698082e-01,  1.71594530e-01,\n",
       "        -9.06775177e-01,  8.89282107e-01, -5.48579991e-01,\n",
       "         1.03567421e-01, -5.22404611e-02, -3.49395931e-01,\n",
       "         9.99719262e-01,  3.57608348e-01,  3.61510158e-01,\n",
       "        -4.73077655e-01,  6.71298623e-01, -4.03530270e-01,\n",
       "        -5.42780817e-01, -2.16456413e-01,  6.73118383e-02,\n",
       "         5.81220150e-01, -1.09054707e-01,  5.54941781e-02,\n",
       "        -9.17966127e-01, -5.26906908e-01, -3.44722062e-01,\n",
       "        -9.24931347e-01, -9.66066122e-01,  6.01783633e-01,\n",
       "         6.40275002e-01, -7.00215399e-02,  7.51800612e-02,\n",
       "        -3.78696293e-01, -4.35267150e-01, -2.80947313e-02,\n",
       "         5.29073291e-02, -8.68594050e-01,  6.47201538e-01,\n",
       "        -7.87277967e-02,  3.32900345e-01, -1.27810404e-01,\n",
       "         2.55545944e-01, -5.78690827e-01,  8.31822276e-01,\n",
       "         7.04744399e-01,  1.71175778e-01,  7.79476538e-02,\n",
       "        -6.37294769e-01,  6.60938263e-01, -6.92730427e-01,\n",
       "         4.11372215e-01,  2.81174332e-02,  9.99877095e-01,\n",
       "        -3.21887821e-01, -3.32771629e-01,  5.46267927e-01,\n",
       "         5.68885326e-01,  5.97978681e-02,  8.23623016e-02,\n",
       "        -5.03867209e-01,  2.78916657e-02,  5.98719299e-01,\n",
       "         4.99856204e-01, -5.93975544e-01, -1.04949325e-01,\n",
       "         3.42689753e-01, -5.86106360e-01, -5.75482905e-01,\n",
       "         5.09353697e-01, -1.19053036e-01,  3.92571054e-02,\n",
       "         1.12120993e-01,  2.39620525e-02,  9.91989136e-01,\n",
       "        -3.67430970e-02, -1.68840168e-04, -3.48862320e-01,\n",
       "         1.33968040e-01, -2.11378589e-01, -3.76559049e-01,\n",
       "         9.98508930e-01,  1.65852457e-01, -3.53321671e-01,\n",
       "        -9.68144894e-01,  3.31859320e-01, -7.37453818e-01,\n",
       "         9.46718156e-01,  6.54433906e-01, -6.75733566e-01,\n",
       "         3.22748870e-01,  4.18291315e-02, -4.39936817e-02,\n",
       "         6.49649858e-01, -1.76586248e-02, -9.32691991e-02,\n",
       "         1.88704319e-02,  1.48963006e-02,  9.01619136e-01,\n",
       "        -2.31623307e-01, -9.02971447e-01, -2.14482754e-01,\n",
       "         1.61742419e-01, -9.04670060e-01,  4.93841946e-01,\n",
       "        -3.41518134e-01, -9.02757123e-02, -1.10115372e-01,\n",
       "         2.46281490e-01,  6.57815456e-01, -1.19944587e-01,\n",
       "        -9.52018738e-01, -1.12635195e-02, -9.07846466e-02,\n",
       "         9.21563864e-01, -1.78442907e-03, -1.81348830e-01,\n",
       "        -8.33609641e-01, -6.23165727e-01, -2.34882951e-01,\n",
       "         4.95541066e-01, -8.23612690e-01,  9.29612875e-01,\n",
       "        -9.39787984e-01,  3.02127779e-01,  9.98613060e-01,\n",
       "         1.86562896e-01, -6.28563464e-01,  5.38002774e-02,\n",
       "        -2.68809944e-01,  6.03825301e-02,  5.48938453e-01,\n",
       "         3.26032400e-01, -8.97094727e-01, -1.22636251e-01,\n",
       "        -1.96815245e-02,  7.51831084e-02, -3.36464085e-02,\n",
       "         4.14197564e-01,  3.99577826e-01,  6.05027340e-02,\n",
       "        -1.62767828e-01, -3.44530880e-01,  8.06522891e-02,\n",
       "         2.58972853e-01,  4.95291322e-01, -5.19456603e-02,\n",
       "         4.91300449e-02,  6.51102513e-02, -7.38842040e-02,\n",
       "        -7.66156495e-01, -1.04778461e-01, -4.50865440e-02,\n",
       "        -7.93689132e-01,  4.20000553e-01, -9.99803543e-01,\n",
       "        -5.26913464e-01, -6.30064309e-01, -1.12822093e-01,\n",
       "         6.14767373e-01,  3.07550222e-01, -3.34698856e-01,\n",
       "        -4.46961224e-01,  4.82296228e-01,  7.88317025e-01,\n",
       "         5.17968237e-01,  1.91180762e-02,  3.23809475e-01,\n",
       "        -4.38561410e-01, -6.02789931e-02,  6.21289574e-02,\n",
       "         5.05596325e-02,  1.89867377e-01,  5.33149362e-01,\n",
       "        -7.98576400e-02,  9.99909580e-01, -1.48069300e-02,\n",
       "        -3.55149448e-01, -9.02947783e-01,  1.09741546e-01,\n",
       "        -1.01434231e-01,  9.85692561e-01, -8.63210380e-01,\n",
       "        -8.87204409e-01,  1.17266938e-01, -2.79398978e-01,\n",
       "        -6.34776473e-01,  7.41001070e-02, -5.58698289e-02,\n",
       "        -4.09212530e-01,  2.99906015e-01,  8.86458337e-01,\n",
       "         7.38282323e-01, -2.42393851e-01,  1.87724158e-01,\n",
       "        -9.51015651e-02, -2.81446010e-01, -1.22260951e-01,\n",
       "        -5.49306571e-01,  9.63781238e-01, -1.48640081e-01,\n",
       "         8.44789624e-01,  4.87781823e-01,  2.53084332e-01,\n",
       "         9.13076460e-01,  9.71272886e-02,  3.64917696e-01,\n",
       "        -9.70611349e-02,  9.98849154e-01,  5.64501025e-02,\n",
       "        -8.19062829e-01,  4.89157468e-01, -9.64387536e-01,\n",
       "         4.43795957e-02, -8.89381886e-01,  1.17888868e-01,\n",
       "        -3.69122326e-02,  8.03976655e-01, -8.27198476e-02,\n",
       "         8.93837690e-01,  5.92261732e-01, -3.28146480e-02,\n",
       "         3.08042437e-01,  6.78215146e-01,  1.98626339e-01,\n",
       "        -8.35989833e-01, -9.56494689e-01, -9.59951520e-01,\n",
       "        -5.81764150e-03, -2.40349025e-01,  1.41774016e-02,\n",
       "         1.63616806e-01,  8.84418190e-02,  1.93209559e-01,\n",
       "         1.27904639e-01, -9.98056948e-01,  8.35625470e-01,\n",
       "         1.64828658e-01, -5.31221449e-01,  9.16318536e-01,\n",
       "         8.88979211e-02,  7.61957914e-02,  3.32598872e-02,\n",
       "        -9.64307189e-01, -9.00528312e-01, -1.30411282e-01,\n",
       "        -1.34257734e-01,  5.30184269e-01,  4.12612766e-01,\n",
       "         6.86849177e-01,  1.75627902e-01, -3.31411451e-01,\n",
       "        -1.06852606e-01,  5.96259892e-01, -4.71744150e-01,\n",
       "        -9.75363076e-01,  1.70361355e-01,  3.92494619e-01,\n",
       "        -9.14749384e-01,  9.01389062e-01, -6.42876148e-01,\n",
       "        -3.76325920e-02,  6.35684490e-01,  3.73167098e-01,\n",
       "         7.89671063e-01,  5.73127091e-01,  2.43480235e-01,\n",
       "         1.96523219e-02,  3.53241980e-01,  7.53637910e-01,\n",
       "         8.66021335e-01,  9.54345703e-01,  3.82736593e-01,\n",
       "         5.14267564e-01,  3.26398790e-01,  1.89163402e-01,\n",
       "         1.17643274e-01, -8.43559861e-01, -7.07960203e-02,\n",
       "        -1.07678644e-01,  2.70772099e-01,  1.07272610e-01,\n",
       "        -1.07509810e-02, -9.08707321e-01, -8.09048302e-03,\n",
       "        -1.39656859e-02,  2.59136677e-01, -2.12724432e-01,\n",
       "         2.09312022e-01, -1.32562771e-01, -2.86729522e-02,\n",
       "        -4.35175359e-01, -2.81291008e-01,  3.05573702e-01,\n",
       "         1.84043393e-01,  8.23658228e-01, -8.45643207e-02,\n",
       "         9.55481306e-02, -4.13413435e-01,  4.38440666e-02,\n",
       "         4.92200613e-01, -7.82005131e-01,  8.06706488e-01,\n",
       "         1.13548309e-01,  5.73517740e-01, -3.56064469e-01,\n",
       "        -1.87186584e-01,  2.66720563e-01, -4.04490560e-01,\n",
       "        -1.88399926e-01, -1.21689186e-01, -6.24209881e-01,\n",
       "         7.03979254e-01, -2.00448543e-01, -2.35536322e-01,\n",
       "        -1.86584875e-01,  3.96036118e-01,  1.25437379e-01,\n",
       "         5.94488919e-01,  4.01326001e-01,  3.56369525e-01,\n",
       "        -1.63852826e-01, -6.85999617e-02,  1.13468118e-01,\n",
       "        -3.81065765e-04, -9.98423636e-01,  2.71499485e-01,\n",
       "         3.23854089e-01, -4.49739277e-01,  3.29499662e-01,\n",
       "        -3.95482749e-01,  6.97057247e-02, -8.97898555e-01,\n",
       "         7.61044770e-02, -1.88175544e-01, -4.83875632e-01,\n",
       "        -3.91425729e-01, -1.52592227e-01,  1.74181312e-01,\n",
       "         5.60532689e-01, -1.61383122e-01,  7.81574965e-01,\n",
       "         4.34995174e-01,  6.41466796e-01,  2.53123820e-01,\n",
       "         4.45473194e-01, -4.88904208e-01,  8.18228602e-01]], dtype=float32)>, past_key_values=None, hidden_states=None, attentions=None, cross_attentions=None)"
      ]
     },
     "execution_count": 14,
     "metadata": {},
     "output_type": "execute_result"
    }
   ],
   "source": [
    "output"
   ]
  },
  {
   "cell_type": "markdown",
   "id": "cbbdfc10-b5b0-4f16-9ee6-e131dda1ad5e",
   "metadata": {},
   "source": [
    "#### testing with the pre-trained model I found"
   ]
  },
  {
   "cell_type": "code",
   "execution_count": 15,
   "id": "c47092c6-d7cf-4c7e-88a0-8d28d093ebf1",
   "metadata": {},
   "outputs": [
    {
     "ename": "ValueError",
     "evalue": "Could not load model ayoubkirouane/BERT-Emotions-Classifier with any of the following classes: (<class 'transformers.models.auto.modeling_tf_auto.TFAutoModelForSequenceClassification'>, <class 'transformers.models.bert.modeling_tf_bert.TFBertForSequenceClassification'>). See the original errors:\n\nwhile loading with TFAutoModelForSequenceClassification, an error is thrown:\nTraceback (most recent call last):\n  File \"/home/tiphaineoz/.pyenv/versions/3.10.6/envs/Lift_Me_Up/lib/python3.10/site-packages/transformers/pipelines/base.py\", line 279, in infer_framework_load_model\n    model = model_class.from_pretrained(model, **kwargs)\n  File \"/home/tiphaineoz/.pyenv/versions/3.10.6/envs/Lift_Me_Up/lib/python3.10/site-packages/transformers/models/auto/auto_factory.py\", line 561, in from_pretrained\n    return model_class.from_pretrained(\n  File \"/home/tiphaineoz/.pyenv/versions/3.10.6/envs/Lift_Me_Up/lib/python3.10/site-packages/transformers/modeling_tf_utils.py\", line 2799, in from_pretrained\n    raise EnvironmentError(\nOSError: ayoubkirouane/BERT-Emotions-Classifier does not appear to have a file named tf_model.h5 but there is a file for PyTorch weights. Use `from_pt=True` to load this model from those weights.\n\nwhile loading with TFBertForSequenceClassification, an error is thrown:\nTraceback (most recent call last):\n  File \"/home/tiphaineoz/.pyenv/versions/3.10.6/envs/Lift_Me_Up/lib/python3.10/site-packages/transformers/pipelines/base.py\", line 279, in infer_framework_load_model\n    model = model_class.from_pretrained(model, **kwargs)\n  File \"/home/tiphaineoz/.pyenv/versions/3.10.6/envs/Lift_Me_Up/lib/python3.10/site-packages/transformers/modeling_tf_utils.py\", line 2799, in from_pretrained\n    raise EnvironmentError(\nOSError: ayoubkirouane/BERT-Emotions-Classifier does not appear to have a file named tf_model.h5 but there is a file for PyTorch weights. Use `from_pt=True` to load this model from those weights.\n\n\n",
     "output_type": "error",
     "traceback": [
      "\u001b[0;31m---------------------------------------------------------------------------\u001b[0m",
      "\u001b[0;31mValueError\u001b[0m                                Traceback (most recent call last)",
      "Cell \u001b[0;32mIn[15], line 4\u001b[0m\n\u001b[1;32m      1\u001b[0m \u001b[38;5;28;01mfrom\u001b[39;00m \u001b[38;5;21;01mtransformers\u001b[39;00m \u001b[38;5;28;01mimport\u001b[39;00m pipeline\n\u001b[1;32m      3\u001b[0m \u001b[38;5;66;03m# Load the BERT-Emotions-Classifier\u001b[39;00m\n\u001b[0;32m----> 4\u001b[0m classifier \u001b[38;5;241m=\u001b[39m \u001b[43mpipeline\u001b[49m\u001b[43m(\u001b[49m\u001b[38;5;124;43m\"\u001b[39;49m\u001b[38;5;124;43mtext-classification\u001b[39;49m\u001b[38;5;124;43m\"\u001b[39;49m\u001b[43m,\u001b[49m\u001b[43m \u001b[49m\u001b[43mmodel\u001b[49m\u001b[38;5;241;43m=\u001b[39;49m\u001b[38;5;124;43m\"\u001b[39;49m\u001b[38;5;124;43mayoubkirouane/BERT-Emotions-Classifier\u001b[39;49m\u001b[38;5;124;43m\"\u001b[39;49m\u001b[43m)\u001b[49m\n\u001b[1;32m      6\u001b[0m \u001b[38;5;66;03m# Input text\u001b[39;00m\n\u001b[1;32m      7\u001b[0m text \u001b[38;5;241m=\u001b[39m \u001b[38;5;124m\"\u001b[39m\u001b[38;5;124mYour input text here\u001b[39m\u001b[38;5;124m\"\u001b[39m\n",
      "File \u001b[0;32m~/.pyenv/versions/3.10.6/envs/Lift_Me_Up/lib/python3.10/site-packages/transformers/pipelines/__init__.py:905\u001b[0m, in \u001b[0;36mpipeline\u001b[0;34m(task, model, config, tokenizer, feature_extractor, image_processor, framework, revision, use_fast, token, device, device_map, torch_dtype, trust_remote_code, model_kwargs, pipeline_class, **kwargs)\u001b[0m\n\u001b[1;32m    903\u001b[0m \u001b[38;5;28;01mif\u001b[39;00m \u001b[38;5;28misinstance\u001b[39m(model, \u001b[38;5;28mstr\u001b[39m) \u001b[38;5;129;01mor\u001b[39;00m framework \u001b[38;5;129;01mis\u001b[39;00m \u001b[38;5;28;01mNone\u001b[39;00m:\n\u001b[1;32m    904\u001b[0m     model_classes \u001b[38;5;241m=\u001b[39m {\u001b[38;5;124m\"\u001b[39m\u001b[38;5;124mtf\u001b[39m\u001b[38;5;124m\"\u001b[39m: targeted_task[\u001b[38;5;124m\"\u001b[39m\u001b[38;5;124mtf\u001b[39m\u001b[38;5;124m\"\u001b[39m], \u001b[38;5;124m\"\u001b[39m\u001b[38;5;124mpt\u001b[39m\u001b[38;5;124m\"\u001b[39m: targeted_task[\u001b[38;5;124m\"\u001b[39m\u001b[38;5;124mpt\u001b[39m\u001b[38;5;124m\"\u001b[39m]}\n\u001b[0;32m--> 905\u001b[0m     framework, model \u001b[38;5;241m=\u001b[39m \u001b[43minfer_framework_load_model\u001b[49m\u001b[43m(\u001b[49m\n\u001b[1;32m    906\u001b[0m \u001b[43m        \u001b[49m\u001b[43mmodel\u001b[49m\u001b[43m,\u001b[49m\n\u001b[1;32m    907\u001b[0m \u001b[43m        \u001b[49m\u001b[43mmodel_classes\u001b[49m\u001b[38;5;241;43m=\u001b[39;49m\u001b[43mmodel_classes\u001b[49m\u001b[43m,\u001b[49m\n\u001b[1;32m    908\u001b[0m \u001b[43m        \u001b[49m\u001b[43mconfig\u001b[49m\u001b[38;5;241;43m=\u001b[39;49m\u001b[43mconfig\u001b[49m\u001b[43m,\u001b[49m\n\u001b[1;32m    909\u001b[0m \u001b[43m        \u001b[49m\u001b[43mframework\u001b[49m\u001b[38;5;241;43m=\u001b[39;49m\u001b[43mframework\u001b[49m\u001b[43m,\u001b[49m\n\u001b[1;32m    910\u001b[0m \u001b[43m        \u001b[49m\u001b[43mtask\u001b[49m\u001b[38;5;241;43m=\u001b[39;49m\u001b[43mtask\u001b[49m\u001b[43m,\u001b[49m\n\u001b[1;32m    911\u001b[0m \u001b[43m        \u001b[49m\u001b[38;5;241;43m*\u001b[39;49m\u001b[38;5;241;43m*\u001b[39;49m\u001b[43mhub_kwargs\u001b[49m\u001b[43m,\u001b[49m\n\u001b[1;32m    912\u001b[0m \u001b[43m        \u001b[49m\u001b[38;5;241;43m*\u001b[39;49m\u001b[38;5;241;43m*\u001b[39;49m\u001b[43mmodel_kwargs\u001b[49m\u001b[43m,\u001b[49m\n\u001b[1;32m    913\u001b[0m \u001b[43m    \u001b[49m\u001b[43m)\u001b[49m\n\u001b[1;32m    915\u001b[0m model_config \u001b[38;5;241m=\u001b[39m model\u001b[38;5;241m.\u001b[39mconfig\n\u001b[1;32m    916\u001b[0m hub_kwargs[\u001b[38;5;124m\"\u001b[39m\u001b[38;5;124m_commit_hash\u001b[39m\u001b[38;5;124m\"\u001b[39m] \u001b[38;5;241m=\u001b[39m model\u001b[38;5;241m.\u001b[39mconfig\u001b[38;5;241m.\u001b[39m_commit_hash\n",
      "File \u001b[0;32m~/.pyenv/versions/3.10.6/envs/Lift_Me_Up/lib/python3.10/site-packages/transformers/pipelines/base.py:292\u001b[0m, in \u001b[0;36minfer_framework_load_model\u001b[0;34m(model, config, model_classes, task, framework, **model_kwargs)\u001b[0m\n\u001b[1;32m    290\u001b[0m         \u001b[38;5;28;01mfor\u001b[39;00m class_name, trace \u001b[38;5;129;01min\u001b[39;00m all_traceback\u001b[38;5;241m.\u001b[39mitems():\n\u001b[1;32m    291\u001b[0m             error \u001b[38;5;241m+\u001b[39m\u001b[38;5;241m=\u001b[39m \u001b[38;5;124mf\u001b[39m\u001b[38;5;124m\"\u001b[39m\u001b[38;5;124mwhile loading with \u001b[39m\u001b[38;5;132;01m{\u001b[39;00mclass_name\u001b[38;5;132;01m}\u001b[39;00m\u001b[38;5;124m, an error is thrown:\u001b[39m\u001b[38;5;130;01m\\n\u001b[39;00m\u001b[38;5;132;01m{\u001b[39;00mtrace\u001b[38;5;132;01m}\u001b[39;00m\u001b[38;5;130;01m\\n\u001b[39;00m\u001b[38;5;124m\"\u001b[39m\n\u001b[0;32m--> 292\u001b[0m         \u001b[38;5;28;01mraise\u001b[39;00m \u001b[38;5;167;01mValueError\u001b[39;00m(\n\u001b[1;32m    293\u001b[0m             \u001b[38;5;124mf\u001b[39m\u001b[38;5;124m\"\u001b[39m\u001b[38;5;124mCould not load model \u001b[39m\u001b[38;5;132;01m{\u001b[39;00mmodel\u001b[38;5;132;01m}\u001b[39;00m\u001b[38;5;124m with any of the following classes: \u001b[39m\u001b[38;5;132;01m{\u001b[39;00mclass_tuple\u001b[38;5;132;01m}\u001b[39;00m\u001b[38;5;124m. See the original errors:\u001b[39m\u001b[38;5;130;01m\\n\u001b[39;00m\u001b[38;5;130;01m\\n\u001b[39;00m\u001b[38;5;132;01m{\u001b[39;00merror\u001b[38;5;132;01m}\u001b[39;00m\u001b[38;5;130;01m\\n\u001b[39;00m\u001b[38;5;124m\"\u001b[39m\n\u001b[1;32m    294\u001b[0m         )\n\u001b[1;32m    296\u001b[0m \u001b[38;5;28;01mif\u001b[39;00m framework \u001b[38;5;129;01mis\u001b[39;00m \u001b[38;5;28;01mNone\u001b[39;00m:\n\u001b[1;32m    297\u001b[0m     framework \u001b[38;5;241m=\u001b[39m infer_framework(model\u001b[38;5;241m.\u001b[39m\u001b[38;5;18m__class__\u001b[39m)\n",
      "\u001b[0;31mValueError\u001b[0m: Could not load model ayoubkirouane/BERT-Emotions-Classifier with any of the following classes: (<class 'transformers.models.auto.modeling_tf_auto.TFAutoModelForSequenceClassification'>, <class 'transformers.models.bert.modeling_tf_bert.TFBertForSequenceClassification'>). See the original errors:\n\nwhile loading with TFAutoModelForSequenceClassification, an error is thrown:\nTraceback (most recent call last):\n  File \"/home/tiphaineoz/.pyenv/versions/3.10.6/envs/Lift_Me_Up/lib/python3.10/site-packages/transformers/pipelines/base.py\", line 279, in infer_framework_load_model\n    model = model_class.from_pretrained(model, **kwargs)\n  File \"/home/tiphaineoz/.pyenv/versions/3.10.6/envs/Lift_Me_Up/lib/python3.10/site-packages/transformers/models/auto/auto_factory.py\", line 561, in from_pretrained\n    return model_class.from_pretrained(\n  File \"/home/tiphaineoz/.pyenv/versions/3.10.6/envs/Lift_Me_Up/lib/python3.10/site-packages/transformers/modeling_tf_utils.py\", line 2799, in from_pretrained\n    raise EnvironmentError(\nOSError: ayoubkirouane/BERT-Emotions-Classifier does not appear to have a file named tf_model.h5 but there is a file for PyTorch weights. Use `from_pt=True` to load this model from those weights.\n\nwhile loading with TFBertForSequenceClassification, an error is thrown:\nTraceback (most recent call last):\n  File \"/home/tiphaineoz/.pyenv/versions/3.10.6/envs/Lift_Me_Up/lib/python3.10/site-packages/transformers/pipelines/base.py\", line 279, in infer_framework_load_model\n    model = model_class.from_pretrained(model, **kwargs)\n  File \"/home/tiphaineoz/.pyenv/versions/3.10.6/envs/Lift_Me_Up/lib/python3.10/site-packages/transformers/modeling_tf_utils.py\", line 2799, in from_pretrained\n    raise EnvironmentError(\nOSError: ayoubkirouane/BERT-Emotions-Classifier does not appear to have a file named tf_model.h5 but there is a file for PyTorch weights. Use `from_pt=True` to load this model from those weights.\n\n\n"
     ]
    }
   ],
   "source": [
    "from transformers import pipeline\n",
    "\n",
    "# Load the BERT-Emotions-Classifier\n",
    "classifier = pipeline(\"text-classification\", model=\"ayoubkirouane/BERT-Emotions-Classifier\")\n",
    "\n",
    "# Input text\n",
    "text = \"Your input text here\"\n",
    "\n",
    "# Perform emotion classification\n",
    "results = classifier(text)\n",
    "\n",
    "# Display the classification results\n",
    "print(results)\n"
   ]
  },
  {
   "cell_type": "code",
   "execution_count": null,
   "id": "a3e63a43-8cac-4748-afac-05810cdcf9a2",
   "metadata": {},
   "outputs": [],
   "source": [
    "from transformers import pipeline\n",
    "model_name = \"ayoubkirouane/BERT-Emotions-Classifier\"\n",
    "\n",
    "# Load the BERT-Emotions-Classifier\n",
    "classifier = pipeline(\"text-classification\", model=model_name, from_pt = True)\n",
    "\n",
    "# Input text\n",
    "text = \"I'm struggling with my body image\"\n",
    "\n",
    "# Perform emotion classification\n",
    "results = classifier(text)\n",
    "\n",
    "# Display the classification results\n",
    "print(results)\n"
   ]
  },
  {
   "cell_type": "markdown",
   "id": "79f01cee-bd03-4ac1-b8d0-840adba87705",
   "metadata": {},
   "source": [
    "#### tokenizing with the model I found"
   ]
  },
  {
   "cell_type": "code",
   "execution_count": null,
   "id": "53f5d089-3f59-4dba-88ab-2b4cdf489176",
   "metadata": {},
   "outputs": [],
   "source": [
    "from transformers import AutoTokenizer, TFAutoModelForSeq2SeqLM\n",
    "\n",
    "tokenizer = AutoTokenizer.from_pretrained(model_name)\n",
    "\n",
    "tokens = tokenizer.encode(\"I'm struggling with my body image\", return_tensors = \"tf\")\n",
    "\n",
    "print(tokens)"
   ]
  },
  {
   "cell_type": "code",
   "execution_count": null,
   "id": "ab5be26b-ae9f-428b-b887-c89044f4281d",
   "metadata": {},
   "outputs": [],
   "source": [
    "model = TFAutoModelForSeq2SeqLM.from_pretrained(model_name, from_pt = True)\n",
    "\n",
    "output_tokens = model.generate(tokens)\n",
    "\n",
    "print(output_tokens)\n",
    "\n",
    "print(tokenizer.decode(output[0]))"
   ]
  },
  {
   "cell_type": "code",
   "execution_count": 1,
   "id": "16ee71df-02e4-4219-a66d-bd2b4d99d5bc",
   "metadata": {},
   "outputs": [
    {
     "name": "stderr",
     "output_type": "stream",
     "text": [
      "2024-03-14 12:35:37.751567: I tensorflow/core/util/port.cc:113] oneDNN custom operations are on. You may see slightly different numerical results due to floating-point round-off errors from different computation orders. To turn them off, set the environment variable `TF_ENABLE_ONEDNN_OPTS=0`.\n",
      "2024-03-14 12:35:37.779094: E external/local_xla/xla/stream_executor/cuda/cuda_dnn.cc:9261] Unable to register cuDNN factory: Attempting to register factory for plugin cuDNN when one has already been registered\n",
      "2024-03-14 12:35:37.779120: E external/local_xla/xla/stream_executor/cuda/cuda_fft.cc:607] Unable to register cuFFT factory: Attempting to register factory for plugin cuFFT when one has already been registered\n",
      "2024-03-14 12:35:37.779797: E external/local_xla/xla/stream_executor/cuda/cuda_blas.cc:1515] Unable to register cuBLAS factory: Attempting to register factory for plugin cuBLAS when one has already been registered\n",
      "2024-03-14 12:35:37.784886: I tensorflow/core/platform/cpu_feature_guard.cc:182] This TensorFlow binary is optimized to use available CPU instructions in performance-critical operations.\n",
      "To enable the following instructions: AVX2 AVX_VNNI FMA, in other operations, rebuild TensorFlow with the appropriate compiler flags.\n",
      "2024-03-14 12:35:38.517653: W tensorflow/compiler/tf2tensorrt/utils/py_utils.cc:38] TF-TRT Warning: Could not find TensorRT\n"
     ]
    }
   ],
   "source": [
    "import tensorflow as tf"
   ]
  },
  {
   "cell_type": "code",
   "execution_count": 3,
   "id": "b714e9a3-be3a-4c8f-9e0f-a267c014267b",
   "metadata": {},
   "outputs": [],
   "source": [
    "model = tf.keras.models.load_model('../model_registry/rnn_saved_model.h5')"
   ]
  },
  {
   "cell_type": "code",
   "execution_count": 4,
   "id": "d7988453-7ce0-4a40-b735-e1cfb0c2deb1",
   "metadata": {},
   "outputs": [
    {
     "name": "stdout",
     "output_type": "stream",
     "text": [
      "Model: \"sequential_7\"\n",
      "_________________________________________________________________\n",
      " Layer (type)                Output Shape              Param #   \n",
      "=================================================================\n",
      " embedding_7 (Embedding)     (None, 160, 50)           27700     \n",
      "                                                                 \n",
      " lstm_7 (LSTM)               (None, 64)                29440     \n",
      "                                                                 \n",
      " dense_34 (Dense)            (None, 300)               19500     \n",
      "                                                                 \n",
      " dense_35 (Dense)            (None, 200)               60200     \n",
      "                                                                 \n",
      " dense_36 (Dense)            (None, 120)               24120     \n",
      "                                                                 \n",
      " dense_37 (Dense)            (None, 120)               14520     \n",
      "                                                                 \n",
      " dense_38 (Dense)            (None, 33)                3993      \n",
      "                                                                 \n",
      "=================================================================\n",
      "Total params: 179473 (701.07 KB)\n",
      "Trainable params: 179473 (701.07 KB)\n",
      "Non-trainable params: 0 (0.00 Byte)\n",
      "_________________________________________________________________\n"
     ]
    }
   ],
   "source": [
    "model.summary()"
   ]
  },
  {
   "cell_type": "code",
   "execution_count": null,
   "id": "9d4fbe1f-c889-4ba7-a71d-ecdae0b1d1eb",
   "metadata": {},
   "outputs": [],
   "source": []
  }
 ],
 "metadata": {
  "kernelspec": {
   "display_name": "Python 3 (ipykernel)",
   "language": "python",
   "name": "python3"
  },
  "language_info": {
   "codemirror_mode": {
    "name": "ipython",
    "version": 3
   },
   "file_extension": ".py",
   "mimetype": "text/x-python",
   "name": "python",
   "nbconvert_exporter": "python",
   "pygments_lexer": "ipython3",
   "version": "3.10.6"
  }
 },
 "nbformat": 4,
 "nbformat_minor": 5
}
