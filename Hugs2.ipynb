{
 "cells": [
  {
   "cell_type": "code",
   "execution_count": null,
   "id": "84115d5b-e836-4629-ad31-9685c72d8f77",
   "metadata": {},
   "outputs": [],
   "source": [
    "import pandas as pd\n",
    "import numpy as np\n",
    "import plotly.graph_objects as go\n",
    "import pickle\n",
    "import matplotlib.pyplot as plt\n",
    "from sentence_transformers import SentenceTransformer, util\n",
    "from sklearn.neighbors import NearestNeighbors\n",
    "from sklearn.cluster import DBSCAN\n"
   ]
  },
  {
   "cell_type": "code",
   "execution_count": null,
   "id": "b23aeaf9-1bce-420c-bf9f-113896d467ec",
   "metadata": {},
   "outputs": [],
   "source": [
    "def data_cleaning(input_file, output_file):\n",
    "    list_data = [all the phrases we want to remove...]\n",
    "\n",
    "    # Read the original text and remove unwanted phrases\n",
    "    with open(input_file, 'r') as file:\n",
    "        data = file.read()\n",
    "        for l_data in list_data:\n",
    "            data = data.replace(l_data, \"\")\n",
    "    \n",
    "    # Save the cleaned data\n",
    "    with open(output_file, 'w') as file:\n",
    "        file.write(data)\n",
    "\n",
    "    # Load the cleaned data into a DataFrame, fix the names, remove empty spots, and save it\n",
    "    df = pd.read_csv(output_file)\n",
    "    df.rename(columns={\"First Comment\": \"comments\"}, inplace=True)\n",
    "    df.dropna(inplace=True)\n",
    "    df.reset_index(drop=True, inplace=True)\n",
    "    df.to_csv(output_file, index=False)\n",
    "\n",
    "    # Print out what changed\n",
    "    print(f\"Data cleaning complete. Cleaned data is stored in {output_file}\")\n"
   ]
  },
  {
   "cell_type": "code",
   "execution_count": null,
   "id": "3c519ff5-4630-4ab8-ae74-32d69d335fd7",
   "metadata": {},
   "outputs": [],
   "source": [
    "df1 = pd.read_csv(\"./Data/Cleaned_Dataset.csv\")\n",
    "comments_list = df1.comments.tolist()\n"
   ]
  },
  {
   "cell_type": "code",
   "execution_count": null,
   "id": "811a66dc-a97b-4df4-97cc-7b9d9b097a4f",
   "metadata": {},
   "outputs": [],
   "source": [
    "def create_and_store_embeddings() -> np.ndarray:\n",
    "    model = SentenceTransformer('all-MiniLM-L6-v2')\n",
    "    embeddings = model.encode(comments_list, show_progress_bar=True)\n",
    "    embeddings = embeddings / np.linalg.norm(embeddings, axis=1, keepdims=True)\n",
    "    return embeddings\n"
   ]
  },
  {
   "cell_type": "code",
   "execution_count": null,
   "id": "ef851339-50e7-4bd5-aac0-5bc5a740b1b5",
   "metadata": {},
   "outputs": [],
   "source": [
    "with open(\"./Data/embeddings.pkl\", \"wb\") as fOut:\n",
    "    pickle.dump({'sentences': comments_list, 'embeddings': embeddings}, fOut, protocol=pickle.HIGHEST_PROTOCOL)\n"
   ]
  },
  {
   "cell_type": "code",
   "execution_count": null,
   "id": "96cfd02a-6aaa-49f5-90b1-09659a6147c4",
   "metadata": {},
   "outputs": [],
   "source": [
    "with open(\"./Data/embeddings.pkl\", \"rb\") as fIn:\n",
    "    stored_data = pickle.load(fIn)\n",
    "    embeddings = stored_data['embeddings']\n"
   ]
  },
  {
   "cell_type": "code",
   "execution_count": null,
   "id": "15cc5acb-be4c-4d6e-b575-87aba29a0a77",
   "metadata": {},
   "outputs": [],
   "source": [
    "def find_optimal_eps(embeddings, k=4):\n",
    "    # [Elbow Method Code]\n",
    "\n",
    "def detect_clusters_dbscan(embeddings, eps=0.2, min_samples=10):\n",
    "    # [DBSCAN Code]\n"
   ]
  },
  {
   "cell_type": "code",
   "execution_count": null,
   "id": "fac8888d-5b75-4a66-9336-43936f86ab93",
   "metadata": {},
   "outputs": [],
   "source": [
    "def plot_clusters(clusters_to_show):\n",
    "    # [Plotting Code]\n"
   ]
  }
 ],
 "metadata": {
  "kernelspec": {
   "display_name": "",
   "name": ""
  },
  "language_info": {
   "name": ""
  }
 },
 "nbformat": 4,
 "nbformat_minor": 5
}
